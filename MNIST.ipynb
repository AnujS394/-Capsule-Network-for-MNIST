{
 "cells": [
  {
   "cell_type": "code",
   "execution_count": 17,
   "id": "babecc31-6c7f-49cf-9030-b204cfe2f971",
   "metadata": {},
   "outputs": [],
   "source": [
    "import numpy as np\n",
    "import matplotlib.pyplot as plt\n",
    "import os\n",
    "from PIL import Image, ImageDraw\n",
    "import torch\n",
    "import torch.nn as nn\n",
    "import torch.optim as optim\n",
    "import torch.nn.functional as F\n",
    "from torch.utils.data import Dataset, DataLoader\n",
    "\n"
   ]
  },
  {
   "cell_type": "code",
   "execution_count": 18,
   "id": "bd50c0a4-1e34-4a42-b1d1-e18438d2e085",
   "metadata": {},
   "outputs": [],
   "source": [
    "def create_dataset_folders(base_path=\"dataset\"):\n",
    "    for split in [\"train\", \"test\"]:\n",
    "        split_path = os.path.join(base_path, split)\n",
    "        os.makedirs(split_path, exist_ok=True)\n",
    "        for digit in range(10):\n",
    "            os.makedirs(os.path.join(split_path, str(digit)), exist_ok=True)\n"
   ]
  },
  {
   "cell_type": "code",
   "execution_count": 19,
   "id": "475b0341-fae2-400b-bfea-f7712c0fe2c7",
   "metadata": {},
   "outputs": [],
   "source": [
    "def generate_and_save_data(num_samples, img_size, split, base_path=\"dataset\"):\n",
    "    images = []\n",
    "    labels = []\n",
    "    split_path = os.path.join(base_path, split)\n",
    "    \n",
    "    for i in range(num_samples):\n",
    "        img = Image.new('L', img_size, color=0)  # Black background\n",
    "        draw = ImageDraw.Draw(img)\n",
    "        label = np.random.randint(0, 10)  # 10 classes (digits 0-9)\n",
    "        draw.text((5, 5), str(label), fill=255)  # Draw number as white text\n",
    "        img_array = np.array(img, dtype=np.uint8)\n",
    "        images.append(img_array)\n",
    "        labels.append(label)\n",
    "        \n",
    "        img_save_path = os.path.join(split_path, str(label), f\"image_{i}.png\")\n",
    "        img.save(img_save_path)\n",
    "    \n",
    "    return np.array(images, dtype=np.float32), np.array(labels, dtype=np.int32)\n",
    "\n",
    "\n"
   ]
  },
  {
   "cell_type": "code",
   "execution_count": 20,
   "id": "638ceb9d-b900-416d-8be3-d82705c91ca4",
   "metadata": {},
   "outputs": [],
   "source": [
    "class CustomDataset(Dataset):\n",
    "    def __init__(self, images, labels):\n",
    "        self.images = torch.tensor(images).unsqueeze(1) / 255.0  # Normalize and add channel dim\n",
    "        self.labels = torch.tensor(labels, dtype=torch.long)\n",
    "    \n",
    "    def __len__(self):\n",
    "        return len(self.labels)\n",
    "    \n",
    "    def __getitem__(self, idx):\n",
    "        return self.images[idx], self.labels[idx]"
   ]
  },
  {
   "cell_type": "code",
   "execution_count": 21,
   "id": "cb7c76e6-e36e-4b36-9da4-79d90b683e21",
   "metadata": {},
   "outputs": [],
   "source": [
    "class CapsuleNet(nn.Module):\n",
    "    def __init__(self, num_classes=10):\n",
    "        super(CapsuleNet, self).__init__()\n",
    "        self.conv1 = nn.Conv2d(1, 256, kernel_size=9, stride=1, padding=0)\n",
    "        self.primary_caps = nn.Conv2d(256, 32 * 8, kernel_size=9, stride=2, padding=0)\n",
    "        self.fc = nn.Linear(32 * 8 * 6 * 6, num_classes * 16)\n",
    "    \n",
    "    def forward(self, x):\n",
    "        x = F.relu(self.conv1(x))\n",
    "        x = F.relu(self.primary_caps(x))\n",
    "        x = x.view(x.size(0), -1)\n",
    "        x = self.fc(x)\n",
    "        x = x.view(x.size(0), 10, 16)\n",
    "        return torch.norm(x, dim=2)\n"
   ]
  },
  {
   "cell_type": "code",
   "execution_count": 22,
   "id": "031c048d-950f-47e6-b702-cc05db2b8f35",
   "metadata": {},
   "outputs": [],
   "source": [
    "num_samples = 20  # Use only 20 images\n",
    "img_size = (28, 28)\n",
    "base_path = \"dataset\"\n",
    "\n",
    "create_dataset_folders(base_path)\n",
    "train_images, train_labels = generate_and_save_data(num_samples, img_size, \"train\", base_path)\n",
    "test_images, test_labels = generate_and_save_data(num_samples // 5, img_size, \"test\", base_path)\n",
    "\n",
    "train_dataset = CustomDataset(train_images, train_labels)\n",
    "test_dataset = CustomDataset(test_images, test_labels)\n",
    "train_loader = DataLoader(train_dataset, batch_size=4, shuffle=True)\n",
    "test_loader = DataLoader(test_dataset, batch_size=4, shuffle=False)\n",
    "\n"
   ]
  },
  {
   "cell_type": "code",
   "execution_count": 23,
   "id": "35a4c0d3-b0ac-43ed-b7e7-5e82c2a1043c",
   "metadata": {},
   "outputs": [
    {
     "name": "stdout",
     "output_type": "stream",
     "text": [
      "Epoch 1/10, Loss: 2.3109\n",
      "Epoch 2/10, Loss: 2.2474\n",
      "Epoch 3/10, Loss: 2.0375\n",
      "Epoch 4/10, Loss: 1.6725\n",
      "Epoch 5/10, Loss: 1.3825\n",
      "Epoch 6/10, Loss: 1.0064\n",
      "Epoch 7/10, Loss: 0.1491\n",
      "Epoch 8/10, Loss: 0.1873\n",
      "Epoch 9/10, Loss: 0.1136\n",
      "Epoch 10/10, Loss: 0.0341\n"
     ]
    }
   ],
   "source": [
    "model = CapsuleNet()\n",
    "optimizer = optim.Adam(model.parameters(), lr=0.001)\n",
    "criterion = nn.CrossEntropyLoss()\n",
    "\n",
    "num_epochs = 10\n",
    "for epoch in range(num_epochs):\n",
    "    model.train()\n",
    "    for images, labels in train_loader:\n",
    "        optimizer.zero_grad()\n",
    "        outputs = model(images)\n",
    "        loss = criterion(outputs, labels)\n",
    "        loss.backward()\n",
    "        optimizer.step()\n",
    "    print(f\"Epoch {epoch+1}/{num_epochs}, Loss: {loss.item():.4f}\")\n"
   ]
  },
  {
   "cell_type": "code",
   "execution_count": 24,
   "id": "924bfaeb-af84-402d-bdd4-e1b5ceebda54",
   "metadata": {},
   "outputs": [],
   "source": [
    "torch.save(model.state_dict(), \"capsule_torch_model.pth\")\n"
   ]
  },
  {
   "cell_type": "code",
   "execution_count": 25,
   "id": "2c040e8a-78d1-4fe3-9c11-5f2e7f3004c2",
   "metadata": {},
   "outputs": [
    {
     "data": {
      "image/png": "[encoded data removed]",
      "text/plain": [
       "<Figure size 1000x200 with 5 Axes>"
      ]
     },
     "metadata": {},
     "output_type": "display_data"
    }
   ],
   "source": [
    "def display_sample_images(images, labels, num_images=5):\n",
    "    fig, axes = plt.subplots(1, num_images, figsize=(10, 2))\n",
    "    for i in range(num_images):\n",
    "        axes[i].imshow(images[i], cmap='gray')\n",
    "        axes[i].set_title(f\"Label: {labels[i]}\")\n",
    "        axes[i].axis('off')\n",
    "    plt.show()\n",
    "\n",
    "display_sample_images(train_images, train_labels)\n",
    "\n"
   ]
  }
 ],
 "metadata": {
  "kernelspec": {
   "display_name": "Python 3 (ipykernel)",
   "language": "python",
   "name": "python3"
  },
  "language_info": {
   "codemirror_mode": {
    "name": "ipython",
    "version": 3
   },
   "file_extension": ".py",
   "mimetype": "text/x-python",
   "name": "python",
   "nbconvert_exporter": "python",
   "pygments_lexer": "ipython3",
   "version": "3.13.1"
  }
 },
 "nbformat": 4,
 "nbformat_minor": 5
}
